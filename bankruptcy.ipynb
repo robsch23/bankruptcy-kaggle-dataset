{
  "nbformat": 4,
  "nbformat_minor": 0,
  "metadata": {
    "colab": {
      "name": "bankruptcy.ipynb",
      "provenance": [],
      "collapsed_sections": [],
      "toc_visible": true
    },
    "kernelspec": {
      "name": "python3",
      "display_name": "Python 3"
    },
    "language_info": {
      "name": "python"
    }
  },
  "cells": [
    {
      "cell_type": "markdown",
      "metadata": {
        "id": "zWhkuh-240Tc"
      },
      "source": [
        "# <font color='Orange'> ML project </font>\n",
        "\n",
        "### Introduction:\n",
        "\n",
        "The data were collected from the Taiwan Economic Journal for the years 1999 to 2009. Company bankruptcy was defined based on the business regulations of the Taiwan Stock Exchange.\n",
        "\n",
        "### Objective:\n",
        "\n",
        "The goal of this notebook is various predictive algorms are available as far as we can predict which goals in order to see failure in the future."
      ]
    },
    {
      "cell_type": "code",
      "metadata": {
        "id": "3uFQq8Df26vT"
      },
      "source": [
        "# Data manipulation\n",
        "import pandas as pd\n",
        "import numpy as np\n",
        "import re\n",
        "\n",
        "# Data visualization\n",
        "import seaborn as sns\n",
        "import matplotlib.pyplot as plt\n",
        "import plotly.express as px\n",
        "import plotly.graph_objects as go\n",
        "from sklearn.model_selection import learning_curve\n",
        "from sklearn.model_selection import validation_curve\n",
        "\n",
        "# preprocessing and resampling\n",
        "from sklearn.preprocessing import StandardScaler\n",
        "from imblearn.over_sampling import SMOTE\n",
        "\n",
        "# metrics\n",
        "from sklearn.metrics import accuracy_score\n",
        "from sklearn.model_selection import cross_val_score\n",
        "from sklearn.metrics import confusion_matrix\n",
        "from sklearn.metrics import recall_score\n",
        "from sklearn.metrics import f1_score\n",
        "from sklearn.metrics import classification_report\n",
        "\n",
        "# ML model\n",
        "from sklearn.model_selection import train_test_split\n",
        "from sklearn.model_selection import GridSearchCV\n",
        "from sklearn.linear_model import LogisticRegression\n",
        "from sklearn.ensemble import RandomForestClassifier\n",
        "from sklearn.neighbors import KNeighborsClassifier\n",
        "from sklearn.pipeline import make_pipeline\n",
        "from sklearn.tree import DecisionTreeClassifier\n",
        "from sklearn.svm import SVC\n",
        "\n",
        "np.warnings.filterwarnings('ignore')"
      ],
      "execution_count": 3,
      "outputs": []
    },
    {
      "cell_type": "markdown",
      "metadata": {
        "id": "rYC9bFX06oab"
      },
      "source": [
        "# Import and data cleansing"
      ]
    },
    {
      "cell_type": "code",
      "metadata": {
        "id": "EzhxVUNV6u2u",
        "colab": {
          "base_uri": "https://localhost:8080/",
          "height": 286
        },
        "outputId": "3eb97cb3-42b6-4816-b8a2-a79ad23bed68"
      },
      "source": [
        "df = pd.read_csv ('/content/drive/MyDrive/Kaggle_code/Bankruptcy/bankruptcy.csv')\n",
        "df.rename(columns = {'Bankrupt?':'y'}, inplace = True)\n",
        "# rename columns\n",
        "lista_new_col = []\n",
        "for col in df.columns:\n",
        "  col = re.sub(' ', '_', col)\n",
        "  col = re.sub('-', '_', col)\n",
        "  lista_new_col.append(col)\n",
        "df.columns = lista_new_col\n",
        "\n",
        "print ( 'Shape of dataset:', df.shape )\n",
        "print ( '*' * 50 )\n",
        "df.head()"
      ],
      "execution_count": 9,
      "outputs": [
        {
          "output_type": "stream",
          "text": [
            "Shape of dataset: (6819, 96)\n",
            "**************************************************\n"
          ],
          "name": "stdout"
        },
        {
          "output_type": "execute_result",
          "data": {
            "text/html": [
              "<div>\n",
              "<style scoped>\n",
              "    .dataframe tbody tr th:only-of-type {\n",
              "        vertical-align: middle;\n",
              "    }\n",
              "\n",
              "    .dataframe tbody tr th {\n",
              "        vertical-align: top;\n",
              "    }\n",
              "\n",
              "    .dataframe thead th {\n",
              "        text-align: right;\n",
              "    }\n",
              "</style>\n",
              "<table border=\"1\" class=\"dataframe\">\n",
              "  <thead>\n",
              "    <tr style=\"text-align: right;\">\n",
              "      <th></th>\n",
              "      <th>y</th>\n",
              "      <th>_ROA(C)_before_interest_and_depreciation_before_interest</th>\n",
              "      <th>_ROA(A)_before_interest_and_%_after_tax</th>\n",
              "      <th>_ROA(B)_before_interest_and_depreciation_after_tax</th>\n",
              "      <th>_Operating_Gross_Margin</th>\n",
              "      <th>_Realized_Sales_Gross_Margin</th>\n",
              "      <th>_Operating_Profit_Rate</th>\n",
              "      <th>_Pre_tax_net_Interest_Rate</th>\n",
              "      <th>_After_tax_net_Interest_Rate</th>\n",
              "      <th>_Non_industry_income_and_expenditure/revenue</th>\n",
              "      <th>_Continuous_interest_rate_(after_tax)</th>\n",
              "      <th>_Operating_Expense_Rate</th>\n",
              "      <th>_Research_and_development_expense_rate</th>\n",
              "      <th>_Cash_flow_rate</th>\n",
              "      <th>_Interest_bearing_debt_interest_rate</th>\n",
              "      <th>_Tax_rate_(A)</th>\n",
              "      <th>_Net_Value_Per_Share_(B)</th>\n",
              "      <th>_Net_Value_Per_Share_(A)</th>\n",
              "      <th>_Net_Value_Per_Share_(C)</th>\n",
              "      <th>_Persistent_EPS_in_the_Last_Four_Seasons</th>\n",
              "      <th>_Cash_Flow_Per_Share</th>\n",
              "      <th>_Revenue_Per_Share_(Yuan_¥)</th>\n",
              "      <th>_Operating_Profit_Per_Share_(Yuan_¥)</th>\n",
              "      <th>_Per_Share_Net_profit_before_tax_(Yuan_¥)</th>\n",
              "      <th>_Realized_Sales_Gross_Profit_Growth_Rate</th>\n",
              "      <th>_Operating_Profit_Growth_Rate</th>\n",
              "      <th>_After_tax_Net_Profit_Growth_Rate</th>\n",
              "      <th>_Regular_Net_Profit_Growth_Rate</th>\n",
              "      <th>_Continuous_Net_Profit_Growth_Rate</th>\n",
              "      <th>_Total_Asset_Growth_Rate</th>\n",
              "      <th>_Net_Value_Growth_Rate</th>\n",
              "      <th>_Total_Asset_Return_Growth_Rate_Ratio</th>\n",
              "      <th>_Cash_Reinvestment_%</th>\n",
              "      <th>_Current_Ratio</th>\n",
              "      <th>_Quick_Ratio</th>\n",
              "      <th>_Interest_Expense_Ratio</th>\n",
              "      <th>_Total_debt/Total_net_worth</th>\n",
              "      <th>_Debt_ratio_%</th>\n",
              "      <th>_Net_worth/Assets</th>\n",
              "      <th>_Long_term_fund_suitability_ratio_(A)</th>\n",
              "      <th>...</th>\n",
              "      <th>_Current_Assets/Total_Assets</th>\n",
              "      <th>_Cash/Total_Assets</th>\n",
              "      <th>_Quick_Assets/Current_Liability</th>\n",
              "      <th>_Cash/Current_Liability</th>\n",
              "      <th>_Current_Liability_to_Assets</th>\n",
              "      <th>_Operating_Funds_to_Liability</th>\n",
              "      <th>_Inventory/Working_Capital</th>\n",
              "      <th>_Inventory/Current_Liability</th>\n",
              "      <th>_Current_Liabilities/Liability</th>\n",
              "      <th>_Working_Capital/Equity</th>\n",
              "      <th>_Current_Liabilities/Equity</th>\n",
              "      <th>_Long_term_Liability_to_Current_Assets</th>\n",
              "      <th>_Retained_Earnings_to_Total_Assets</th>\n",
              "      <th>_Total_income/Total_expense</th>\n",
              "      <th>_Total_expense/Assets</th>\n",
              "      <th>_Current_Asset_Turnover_Rate</th>\n",
              "      <th>_Quick_Asset_Turnover_Rate</th>\n",
              "      <th>_Working_capitcal_Turnover_Rate</th>\n",
              "      <th>_Cash_Turnover_Rate</th>\n",
              "      <th>_Cash_Flow_to_Sales</th>\n",
              "      <th>_Fixed_Assets_to_Assets</th>\n",
              "      <th>_Current_Liability_to_Liability</th>\n",
              "      <th>_Current_Liability_to_Equity</th>\n",
              "      <th>_Equity_to_Long_term_Liability</th>\n",
              "      <th>_Cash_Flow_to_Total_Assets</th>\n",
              "      <th>_Cash_Flow_to_Liability</th>\n",
              "      <th>_CFO_to_Assets</th>\n",
              "      <th>_Cash_Flow_to_Equity</th>\n",
              "      <th>_Current_Liability_to_Current_Assets</th>\n",
              "      <th>_Liability_Assets_Flag</th>\n",
              "      <th>_Net_Income_to_Total_Assets</th>\n",
              "      <th>_Total_assets_to_GNP_price</th>\n",
              "      <th>_No_credit_Interval</th>\n",
              "      <th>_Gross_Profit_to_Sales</th>\n",
              "      <th>_Net_Income_to_Stockholder's_Equity</th>\n",
              "      <th>_Liability_to_Equity</th>\n",
              "      <th>_Degree_of_Financial_Leverage_(DFL)</th>\n",
              "      <th>_Interest_Coverage_Ratio_(Interest_expense_to_EBIT)</th>\n",
              "      <th>_Net_Income_Flag</th>\n",
              "      <th>_Equity_to_Liability</th>\n",
              "    </tr>\n",
              "  </thead>\n",
              "  <tbody>\n",
              "    <tr>\n",
              "      <th>0</th>\n",
              "      <td>1</td>\n",
              "      <td>0.370594</td>\n",
              "      <td>0.424389</td>\n",
              "      <td>0.405750</td>\n",
              "      <td>0.601457</td>\n",
              "      <td>0.601457</td>\n",
              "      <td>0.998969</td>\n",
              "      <td>0.796887</td>\n",
              "      <td>0.808809</td>\n",
              "      <td>0.302646</td>\n",
              "      <td>0.780985</td>\n",
              "      <td>1.256969e-04</td>\n",
              "      <td>0.0</td>\n",
              "      <td>0.458143</td>\n",
              "      <td>0.000725</td>\n",
              "      <td>0.0</td>\n",
              "      <td>0.147950</td>\n",
              "      <td>0.147950</td>\n",
              "      <td>0.147950</td>\n",
              "      <td>0.169141</td>\n",
              "      <td>0.311664</td>\n",
              "      <td>0.017560</td>\n",
              "      <td>0.095921</td>\n",
              "      <td>0.138736</td>\n",
              "      <td>0.022102</td>\n",
              "      <td>0.848195</td>\n",
              "      <td>0.688979</td>\n",
              "      <td>0.688979</td>\n",
              "      <td>0.217535</td>\n",
              "      <td>4.980000e+09</td>\n",
              "      <td>0.000327</td>\n",
              "      <td>0.263100</td>\n",
              "      <td>0.363725</td>\n",
              "      <td>0.002259</td>\n",
              "      <td>0.001208</td>\n",
              "      <td>0.629951</td>\n",
              "      <td>0.021266</td>\n",
              "      <td>0.207576</td>\n",
              "      <td>0.792424</td>\n",
              "      <td>0.005024</td>\n",
              "      <td>...</td>\n",
              "      <td>0.190643</td>\n",
              "      <td>0.004094</td>\n",
              "      <td>0.001997</td>\n",
              "      <td>1.473360e-04</td>\n",
              "      <td>0.147308</td>\n",
              "      <td>0.334015</td>\n",
              "      <td>0.276920</td>\n",
              "      <td>0.001036</td>\n",
              "      <td>0.676269</td>\n",
              "      <td>0.721275</td>\n",
              "      <td>0.339077</td>\n",
              "      <td>0.025592</td>\n",
              "      <td>0.903225</td>\n",
              "      <td>0.002022</td>\n",
              "      <td>0.064856</td>\n",
              "      <td>7.010000e+08</td>\n",
              "      <td>6.550000e+09</td>\n",
              "      <td>0.593831</td>\n",
              "      <td>4.580000e+08</td>\n",
              "      <td>0.671568</td>\n",
              "      <td>0.424206</td>\n",
              "      <td>0.676269</td>\n",
              "      <td>0.339077</td>\n",
              "      <td>0.126549</td>\n",
              "      <td>0.637555</td>\n",
              "      <td>0.458609</td>\n",
              "      <td>0.520382</td>\n",
              "      <td>0.312905</td>\n",
              "      <td>0.118250</td>\n",
              "      <td>0</td>\n",
              "      <td>0.716845</td>\n",
              "      <td>0.009219</td>\n",
              "      <td>0.622879</td>\n",
              "      <td>0.601453</td>\n",
              "      <td>0.827890</td>\n",
              "      <td>0.290202</td>\n",
              "      <td>0.026601</td>\n",
              "      <td>0.564050</td>\n",
              "      <td>1</td>\n",
              "      <td>0.016469</td>\n",
              "    </tr>\n",
              "    <tr>\n",
              "      <th>1</th>\n",
              "      <td>1</td>\n",
              "      <td>0.464291</td>\n",
              "      <td>0.538214</td>\n",
              "      <td>0.516730</td>\n",
              "      <td>0.610235</td>\n",
              "      <td>0.610235</td>\n",
              "      <td>0.998946</td>\n",
              "      <td>0.797380</td>\n",
              "      <td>0.809301</td>\n",
              "      <td>0.303556</td>\n",
              "      <td>0.781506</td>\n",
              "      <td>2.897851e-04</td>\n",
              "      <td>0.0</td>\n",
              "      <td>0.461867</td>\n",
              "      <td>0.000647</td>\n",
              "      <td>0.0</td>\n",
              "      <td>0.182251</td>\n",
              "      <td>0.182251</td>\n",
              "      <td>0.182251</td>\n",
              "      <td>0.208944</td>\n",
              "      <td>0.318137</td>\n",
              "      <td>0.021144</td>\n",
              "      <td>0.093722</td>\n",
              "      <td>0.169918</td>\n",
              "      <td>0.022080</td>\n",
              "      <td>0.848088</td>\n",
              "      <td>0.689693</td>\n",
              "      <td>0.689702</td>\n",
              "      <td>0.217620</td>\n",
              "      <td>6.110000e+09</td>\n",
              "      <td>0.000443</td>\n",
              "      <td>0.264516</td>\n",
              "      <td>0.376709</td>\n",
              "      <td>0.006016</td>\n",
              "      <td>0.004039</td>\n",
              "      <td>0.635172</td>\n",
              "      <td>0.012502</td>\n",
              "      <td>0.171176</td>\n",
              "      <td>0.828824</td>\n",
              "      <td>0.005059</td>\n",
              "      <td>...</td>\n",
              "      <td>0.182419</td>\n",
              "      <td>0.014948</td>\n",
              "      <td>0.004136</td>\n",
              "      <td>1.383910e-03</td>\n",
              "      <td>0.056963</td>\n",
              "      <td>0.341106</td>\n",
              "      <td>0.289642</td>\n",
              "      <td>0.005210</td>\n",
              "      <td>0.308589</td>\n",
              "      <td>0.731975</td>\n",
              "      <td>0.329740</td>\n",
              "      <td>0.023947</td>\n",
              "      <td>0.931065</td>\n",
              "      <td>0.002226</td>\n",
              "      <td>0.025516</td>\n",
              "      <td>1.065198e-04</td>\n",
              "      <td>7.700000e+09</td>\n",
              "      <td>0.593916</td>\n",
              "      <td>2.490000e+09</td>\n",
              "      <td>0.671570</td>\n",
              "      <td>0.468828</td>\n",
              "      <td>0.308589</td>\n",
              "      <td>0.329740</td>\n",
              "      <td>0.120916</td>\n",
              "      <td>0.641100</td>\n",
              "      <td>0.459001</td>\n",
              "      <td>0.567101</td>\n",
              "      <td>0.314163</td>\n",
              "      <td>0.047775</td>\n",
              "      <td>0</td>\n",
              "      <td>0.795297</td>\n",
              "      <td>0.008323</td>\n",
              "      <td>0.623652</td>\n",
              "      <td>0.610237</td>\n",
              "      <td>0.839969</td>\n",
              "      <td>0.283846</td>\n",
              "      <td>0.264577</td>\n",
              "      <td>0.570175</td>\n",
              "      <td>1</td>\n",
              "      <td>0.020794</td>\n",
              "    </tr>\n",
              "    <tr>\n",
              "      <th>2</th>\n",
              "      <td>1</td>\n",
              "      <td>0.426071</td>\n",
              "      <td>0.499019</td>\n",
              "      <td>0.472295</td>\n",
              "      <td>0.601450</td>\n",
              "      <td>0.601364</td>\n",
              "      <td>0.998857</td>\n",
              "      <td>0.796403</td>\n",
              "      <td>0.808388</td>\n",
              "      <td>0.302035</td>\n",
              "      <td>0.780284</td>\n",
              "      <td>2.361297e-04</td>\n",
              "      <td>25500000.0</td>\n",
              "      <td>0.458521</td>\n",
              "      <td>0.000790</td>\n",
              "      <td>0.0</td>\n",
              "      <td>0.177911</td>\n",
              "      <td>0.177911</td>\n",
              "      <td>0.193713</td>\n",
              "      <td>0.180581</td>\n",
              "      <td>0.307102</td>\n",
              "      <td>0.005944</td>\n",
              "      <td>0.092338</td>\n",
              "      <td>0.142803</td>\n",
              "      <td>0.022760</td>\n",
              "      <td>0.848094</td>\n",
              "      <td>0.689463</td>\n",
              "      <td>0.689470</td>\n",
              "      <td>0.217601</td>\n",
              "      <td>7.280000e+09</td>\n",
              "      <td>0.000396</td>\n",
              "      <td>0.264184</td>\n",
              "      <td>0.368913</td>\n",
              "      <td>0.011543</td>\n",
              "      <td>0.005348</td>\n",
              "      <td>0.629631</td>\n",
              "      <td>0.021248</td>\n",
              "      <td>0.207516</td>\n",
              "      <td>0.792484</td>\n",
              "      <td>0.005100</td>\n",
              "      <td>...</td>\n",
              "      <td>0.602806</td>\n",
              "      <td>0.000991</td>\n",
              "      <td>0.006302</td>\n",
              "      <td>5.340000e+09</td>\n",
              "      <td>0.098162</td>\n",
              "      <td>0.336731</td>\n",
              "      <td>0.277456</td>\n",
              "      <td>0.013879</td>\n",
              "      <td>0.446027</td>\n",
              "      <td>0.742729</td>\n",
              "      <td>0.334777</td>\n",
              "      <td>0.003715</td>\n",
              "      <td>0.909903</td>\n",
              "      <td>0.002060</td>\n",
              "      <td>0.021387</td>\n",
              "      <td>1.791094e-03</td>\n",
              "      <td>1.022676e-03</td>\n",
              "      <td>0.594502</td>\n",
              "      <td>7.610000e+08</td>\n",
              "      <td>0.671571</td>\n",
              "      <td>0.276179</td>\n",
              "      <td>0.446027</td>\n",
              "      <td>0.334777</td>\n",
              "      <td>0.117922</td>\n",
              "      <td>0.642765</td>\n",
              "      <td>0.459254</td>\n",
              "      <td>0.538491</td>\n",
              "      <td>0.314515</td>\n",
              "      <td>0.025346</td>\n",
              "      <td>0</td>\n",
              "      <td>0.774670</td>\n",
              "      <td>0.040003</td>\n",
              "      <td>0.623841</td>\n",
              "      <td>0.601449</td>\n",
              "      <td>0.836774</td>\n",
              "      <td>0.290189</td>\n",
              "      <td>0.026555</td>\n",
              "      <td>0.563706</td>\n",
              "      <td>1</td>\n",
              "      <td>0.016474</td>\n",
              "    </tr>\n",
              "    <tr>\n",
              "      <th>3</th>\n",
              "      <td>1</td>\n",
              "      <td>0.399844</td>\n",
              "      <td>0.451265</td>\n",
              "      <td>0.457733</td>\n",
              "      <td>0.583541</td>\n",
              "      <td>0.583541</td>\n",
              "      <td>0.998700</td>\n",
              "      <td>0.796967</td>\n",
              "      <td>0.808966</td>\n",
              "      <td>0.303350</td>\n",
              "      <td>0.781241</td>\n",
              "      <td>1.078888e-04</td>\n",
              "      <td>0.0</td>\n",
              "      <td>0.465705</td>\n",
              "      <td>0.000449</td>\n",
              "      <td>0.0</td>\n",
              "      <td>0.154187</td>\n",
              "      <td>0.154187</td>\n",
              "      <td>0.154187</td>\n",
              "      <td>0.193722</td>\n",
              "      <td>0.321674</td>\n",
              "      <td>0.014368</td>\n",
              "      <td>0.077762</td>\n",
              "      <td>0.148603</td>\n",
              "      <td>0.022046</td>\n",
              "      <td>0.848005</td>\n",
              "      <td>0.689110</td>\n",
              "      <td>0.689110</td>\n",
              "      <td>0.217568</td>\n",
              "      <td>4.880000e+09</td>\n",
              "      <td>0.000382</td>\n",
              "      <td>0.263371</td>\n",
              "      <td>0.384077</td>\n",
              "      <td>0.004194</td>\n",
              "      <td>0.002896</td>\n",
              "      <td>0.630228</td>\n",
              "      <td>0.009572</td>\n",
              "      <td>0.151465</td>\n",
              "      <td>0.848535</td>\n",
              "      <td>0.005047</td>\n",
              "      <td>...</td>\n",
              "      <td>0.225815</td>\n",
              "      <td>0.018851</td>\n",
              "      <td>0.002961</td>\n",
              "      <td>1.010646e-03</td>\n",
              "      <td>0.098715</td>\n",
              "      <td>0.348716</td>\n",
              "      <td>0.276580</td>\n",
              "      <td>0.003540</td>\n",
              "      <td>0.615848</td>\n",
              "      <td>0.729825</td>\n",
              "      <td>0.331509</td>\n",
              "      <td>0.022165</td>\n",
              "      <td>0.906902</td>\n",
              "      <td>0.001831</td>\n",
              "      <td>0.024161</td>\n",
              "      <td>8.140000e+09</td>\n",
              "      <td>6.050000e+09</td>\n",
              "      <td>0.593889</td>\n",
              "      <td>2.030000e+09</td>\n",
              "      <td>0.671519</td>\n",
              "      <td>0.559144</td>\n",
              "      <td>0.615848</td>\n",
              "      <td>0.331509</td>\n",
              "      <td>0.120760</td>\n",
              "      <td>0.579039</td>\n",
              "      <td>0.448518</td>\n",
              "      <td>0.604105</td>\n",
              "      <td>0.302382</td>\n",
              "      <td>0.067250</td>\n",
              "      <td>0</td>\n",
              "      <td>0.739555</td>\n",
              "      <td>0.003252</td>\n",
              "      <td>0.622929</td>\n",
              "      <td>0.583538</td>\n",
              "      <td>0.834697</td>\n",
              "      <td>0.281721</td>\n",
              "      <td>0.026697</td>\n",
              "      <td>0.564663</td>\n",
              "      <td>1</td>\n",
              "      <td>0.023982</td>\n",
              "    </tr>\n",
              "    <tr>\n",
              "      <th>4</th>\n",
              "      <td>1</td>\n",
              "      <td>0.465022</td>\n",
              "      <td>0.538432</td>\n",
              "      <td>0.522298</td>\n",
              "      <td>0.598783</td>\n",
              "      <td>0.598783</td>\n",
              "      <td>0.998973</td>\n",
              "      <td>0.797366</td>\n",
              "      <td>0.809304</td>\n",
              "      <td>0.303475</td>\n",
              "      <td>0.781550</td>\n",
              "      <td>7.890000e+09</td>\n",
              "      <td>0.0</td>\n",
              "      <td>0.462746</td>\n",
              "      <td>0.000686</td>\n",
              "      <td>0.0</td>\n",
              "      <td>0.167502</td>\n",
              "      <td>0.167502</td>\n",
              "      <td>0.167502</td>\n",
              "      <td>0.212537</td>\n",
              "      <td>0.319162</td>\n",
              "      <td>0.029690</td>\n",
              "      <td>0.096898</td>\n",
              "      <td>0.168412</td>\n",
              "      <td>0.022096</td>\n",
              "      <td>0.848258</td>\n",
              "      <td>0.689697</td>\n",
              "      <td>0.689697</td>\n",
              "      <td>0.217626</td>\n",
              "      <td>5.510000e+09</td>\n",
              "      <td>0.000439</td>\n",
              "      <td>0.265218</td>\n",
              "      <td>0.379690</td>\n",
              "      <td>0.006022</td>\n",
              "      <td>0.003727</td>\n",
              "      <td>0.636055</td>\n",
              "      <td>0.005150</td>\n",
              "      <td>0.106509</td>\n",
              "      <td>0.893491</td>\n",
              "      <td>0.005303</td>\n",
              "      <td>...</td>\n",
              "      <td>0.358380</td>\n",
              "      <td>0.014161</td>\n",
              "      <td>0.004275</td>\n",
              "      <td>6.804636e-04</td>\n",
              "      <td>0.110195</td>\n",
              "      <td>0.344639</td>\n",
              "      <td>0.287913</td>\n",
              "      <td>0.004869</td>\n",
              "      <td>0.975007</td>\n",
              "      <td>0.732000</td>\n",
              "      <td>0.330726</td>\n",
              "      <td>0.000000</td>\n",
              "      <td>0.913850</td>\n",
              "      <td>0.002224</td>\n",
              "      <td>0.026385</td>\n",
              "      <td>6.680000e+09</td>\n",
              "      <td>5.050000e+09</td>\n",
              "      <td>0.593915</td>\n",
              "      <td>8.240000e+08</td>\n",
              "      <td>0.671563</td>\n",
              "      <td>0.309555</td>\n",
              "      <td>0.975007</td>\n",
              "      <td>0.330726</td>\n",
              "      <td>0.110933</td>\n",
              "      <td>0.622374</td>\n",
              "      <td>0.454411</td>\n",
              "      <td>0.578469</td>\n",
              "      <td>0.311567</td>\n",
              "      <td>0.047725</td>\n",
              "      <td>0</td>\n",
              "      <td>0.795016</td>\n",
              "      <td>0.003878</td>\n",
              "      <td>0.623521</td>\n",
              "      <td>0.598782</td>\n",
              "      <td>0.839973</td>\n",
              "      <td>0.278514</td>\n",
              "      <td>0.024752</td>\n",
              "      <td>0.575617</td>\n",
              "      <td>1</td>\n",
              "      <td>0.035490</td>\n",
              "    </tr>\n",
              "  </tbody>\n",
              "</table>\n",
              "<p>5 rows × 96 columns</p>\n",
              "</div>"
            ],
            "text/plain": [
              "   y  ...  _Equity_to_Liability\n",
              "0  1  ...              0.016469\n",
              "1  1  ...              0.020794\n",
              "2  1  ...              0.016474\n",
              "3  1  ...              0.023982\n",
              "4  1  ...              0.035490\n",
              "\n",
              "[5 rows x 96 columns]"
            ]
          },
          "metadata": {
            "tags": []
          },
          "execution_count": 9
        }
      ]
    },
    {
      "cell_type": "code",
      "metadata": {
        "id": "y0E2HJ9x7iNm"
      },
      "source": [
        "df.isna().sum()"
      ],
      "execution_count": null,
      "outputs": []
    },
    {
      "cell_type": "markdown",
      "metadata": {
        "id": "cOPvJ4N18ZXe"
      },
      "source": [
        "There is no missing data in the dataset."
      ]
    },
    {
      "cell_type": "markdown",
      "metadata": {
        "id": "Bjg9XYkV89Ja"
      },
      "source": [
        "# Data analysis & visualization"
      ]
    },
    {
      "cell_type": "code",
      "metadata": {
        "id": "ekG8EVLIHG8X"
      },
      "source": [
        "df.info()"
      ],
      "execution_count": null,
      "outputs": []
    },
    {
      "cell_type": "markdown",
      "metadata": {
        "id": "IU3CLYDDcCb6"
      },
      "source": [
        "The dataset is composed of a combination of 6819 observations per each of our 96 features."
      ]
    },
    {
      "cell_type": "code",
      "metadata": {
        "id": "cdD7grtt8AM2",
        "colab": {
          "base_uri": "https://localhost:8080/",
          "height": 417
        },
        "outputId": "e226139b-eed5-46d7-a8ba-7cc86e91ecfc"
      },
      "source": [
        "df.describe().T"
      ],
      "execution_count": null,
      "outputs": [
        {
          "output_type": "execute_result",
          "data": {
            "text/html": [
              "<div>\n",
              "<style scoped>\n",
              "    .dataframe tbody tr th:only-of-type {\n",
              "        vertical-align: middle;\n",
              "    }\n",
              "\n",
              "    .dataframe tbody tr th {\n",
              "        vertical-align: top;\n",
              "    }\n",
              "\n",
              "    .dataframe thead th {\n",
              "        text-align: right;\n",
              "    }\n",
              "</style>\n",
              "<table border=\"1\" class=\"dataframe\">\n",
              "  <thead>\n",
              "    <tr style=\"text-align: right;\">\n",
              "      <th></th>\n",
              "      <th>count</th>\n",
              "      <th>mean</th>\n",
              "      <th>std</th>\n",
              "      <th>min</th>\n",
              "      <th>25%</th>\n",
              "      <th>50%</th>\n",
              "      <th>75%</th>\n",
              "      <th>max</th>\n",
              "    </tr>\n",
              "  </thead>\n",
              "  <tbody>\n",
              "    <tr>\n",
              "      <th>y</th>\n",
              "      <td>6819.0</td>\n",
              "      <td>0.032263</td>\n",
              "      <td>0.176710</td>\n",
              "      <td>0.0</td>\n",
              "      <td>0.000000</td>\n",
              "      <td>0.000000</td>\n",
              "      <td>0.000000</td>\n",
              "      <td>1.0</td>\n",
              "    </tr>\n",
              "    <tr>\n",
              "      <th>_ROA(C)_before_interest_and_depreciation_before_interest</th>\n",
              "      <td>6819.0</td>\n",
              "      <td>0.505180</td>\n",
              "      <td>0.060686</td>\n",
              "      <td>0.0</td>\n",
              "      <td>0.476527</td>\n",
              "      <td>0.502706</td>\n",
              "      <td>0.535563</td>\n",
              "      <td>1.0</td>\n",
              "    </tr>\n",
              "    <tr>\n",
              "      <th>_ROA(A)_before_interest_and_%_after_tax</th>\n",
              "      <td>6819.0</td>\n",
              "      <td>0.558625</td>\n",
              "      <td>0.065620</td>\n",
              "      <td>0.0</td>\n",
              "      <td>0.535543</td>\n",
              "      <td>0.559802</td>\n",
              "      <td>0.589157</td>\n",
              "      <td>1.0</td>\n",
              "    </tr>\n",
              "    <tr>\n",
              "      <th>_ROA(B)_before_interest_and_depreciation_after_tax</th>\n",
              "      <td>6819.0</td>\n",
              "      <td>0.553589</td>\n",
              "      <td>0.061595</td>\n",
              "      <td>0.0</td>\n",
              "      <td>0.527277</td>\n",
              "      <td>0.552278</td>\n",
              "      <td>0.584105</td>\n",
              "      <td>1.0</td>\n",
              "    </tr>\n",
              "    <tr>\n",
              "      <th>_Operating_Gross_Margin</th>\n",
              "      <td>6819.0</td>\n",
              "      <td>0.607948</td>\n",
              "      <td>0.016934</td>\n",
              "      <td>0.0</td>\n",
              "      <td>0.600445</td>\n",
              "      <td>0.605997</td>\n",
              "      <td>0.613914</td>\n",
              "      <td>1.0</td>\n",
              "    </tr>\n",
              "    <tr>\n",
              "      <th>...</th>\n",
              "      <td>...</td>\n",
              "      <td>...</td>\n",
              "      <td>...</td>\n",
              "      <td>...</td>\n",
              "      <td>...</td>\n",
              "      <td>...</td>\n",
              "      <td>...</td>\n",
              "      <td>...</td>\n",
              "    </tr>\n",
              "    <tr>\n",
              "      <th>_Liability_to_Equity</th>\n",
              "      <td>6819.0</td>\n",
              "      <td>0.280365</td>\n",
              "      <td>0.014463</td>\n",
              "      <td>0.0</td>\n",
              "      <td>0.276944</td>\n",
              "      <td>0.278778</td>\n",
              "      <td>0.281449</td>\n",
              "      <td>1.0</td>\n",
              "    </tr>\n",
              "    <tr>\n",
              "      <th>_Degree_of_Financial_Leverage_(DFL)</th>\n",
              "      <td>6819.0</td>\n",
              "      <td>0.027541</td>\n",
              "      <td>0.015668</td>\n",
              "      <td>0.0</td>\n",
              "      <td>0.026791</td>\n",
              "      <td>0.026808</td>\n",
              "      <td>0.026913</td>\n",
              "      <td>1.0</td>\n",
              "    </tr>\n",
              "    <tr>\n",
              "      <th>_Interest_Coverage_Ratio_(Interest_expense_to_EBIT)</th>\n",
              "      <td>6819.0</td>\n",
              "      <td>0.565358</td>\n",
              "      <td>0.013214</td>\n",
              "      <td>0.0</td>\n",
              "      <td>0.565158</td>\n",
              "      <td>0.565252</td>\n",
              "      <td>0.565725</td>\n",
              "      <td>1.0</td>\n",
              "    </tr>\n",
              "    <tr>\n",
              "      <th>_Net_Income_Flag</th>\n",
              "      <td>6819.0</td>\n",
              "      <td>1.000000</td>\n",
              "      <td>0.000000</td>\n",
              "      <td>1.0</td>\n",
              "      <td>1.000000</td>\n",
              "      <td>1.000000</td>\n",
              "      <td>1.000000</td>\n",
              "      <td>1.0</td>\n",
              "    </tr>\n",
              "    <tr>\n",
              "      <th>_Equity_to_Liability</th>\n",
              "      <td>6819.0</td>\n",
              "      <td>0.047578</td>\n",
              "      <td>0.050014</td>\n",
              "      <td>0.0</td>\n",
              "      <td>0.024477</td>\n",
              "      <td>0.033798</td>\n",
              "      <td>0.052838</td>\n",
              "      <td>1.0</td>\n",
              "    </tr>\n",
              "  </tbody>\n",
              "</table>\n",
              "<p>96 rows × 8 columns</p>\n",
              "</div>"
            ],
            "text/plain": [
              "                                                     count  ...  max\n",
              "y                                                   6819.0  ...  1.0\n",
              "_ROA(C)_before_interest_and_depreciation_before...  6819.0  ...  1.0\n",
              "_ROA(A)_before_interest_and_%_after_tax             6819.0  ...  1.0\n",
              "_ROA(B)_before_interest_and_depreciation_after_tax  6819.0  ...  1.0\n",
              "_Operating_Gross_Margin                             6819.0  ...  1.0\n",
              "...                                                    ...  ...  ...\n",
              "_Liability_to_Equity                                6819.0  ...  1.0\n",
              "_Degree_of_Financial_Leverage_(DFL)                 6819.0  ...  1.0\n",
              "_Interest_Coverage_Ratio_(Interest_expense_to_E...  6819.0  ...  1.0\n",
              "_Net_Income_Flag                                    6819.0  ...  1.0\n",
              "_Equity_to_Liability                                6819.0  ...  1.0\n",
              "\n",
              "[96 rows x 8 columns]"
            ]
          },
          "metadata": {
            "tags": []
          },
          "execution_count": 7
        }
      ]
    },
    {
      "cell_type": "code",
      "metadata": {
        "id": "EotvM0Ofagsj",
        "colab": {
          "base_uri": "https://localhost:8080/"
        },
        "outputId": "2443a8a0-cd27-4b07-fd04-29f37f2fb75d"
      },
      "source": [
        "print(df.y.value_counts())\n",
        "print('-'* 30)\n",
        "print('Financially stable: ', round(df.y.value_counts()[0]/len(df) * 100, 2), '% of the dataset')\n",
        "print('Financially unstable: ', round(df.y.value_counts()[1]/len(df) * 100, 2), '% of the dataset')"
      ],
      "execution_count": 10,
      "outputs": [
        {
          "output_type": "stream",
          "text": [
            "0    6599\n",
            "1     220\n",
            "Name: y, dtype: int64\n",
            "------------------------------\n",
            "Financially stable:  96.77 % of the dataset\n",
            "Financially unstable:  3.23 % of the dataset\n"
          ],
          "name": "stdout"
        }
      ]
    },
    {
      "cell_type": "code",
      "metadata": {
        "id": "BhMN6VYrgkM1",
        "colab": {
          "base_uri": "https://localhost:8080/",
          "height": 310
        },
        "outputId": "4c747305-cced-4a97-e82a-7a30b160f372"
      },
      "source": [
        "plt.figure(figsize = (7,4))\n",
        "sns.countplot(df.y)\n",
        "plt.title('Class Distributions Count \\n (0: Stable || 1: Unstable)', fontsize=12)\n",
        "plt.show()"
      ],
      "execution_count": 11,
      "outputs": [
        {
          "output_type": "display_data",
          "data": {
            "image/png": "[encoded data removed]",
            "text/plain": [
              "<Figure size 504x288 with 1 Axes>"
            ]
          },
          "metadata": {
            "tags": [],
            "needs_background": "light"
          }
        }
      ]
    },
    {
      "cell_type": "markdown",
      "metadata": {
        "id": "CUg_ImO0YnNp"
      },
      "source": [
        "The classes are heavily skewed we need to solve this issue later, with algorithm SMOTE (**S**ynthetic **M**inority **O**versampling **TE**chnique).\n",
        "\n",
        "Class 1 represents 96.77% of the dataset, while class 2 only 3.23%."
      ]
    },
    {
      "cell_type": "code",
      "metadata": {
        "id": "R-5XGa1DGDCD",
        "colab": {
          "base_uri": "https://localhost:8080/",
          "height": 313
        },
        "outputId": "ecb69d5e-e19e-45b6-f7aa-f6633e49ae2b"
      },
      "source": [
        "cat_cols = df.select_dtypes(include=['object','category','int64']).columns\n",
        "fig, ax = plt.subplots(nrows=1, ncols=2, figsize=(7,4), constrained_layout=True)\n",
        "ax=ax.flatten()\n",
        "fig.suptitle('\\nCount plot of categorical features\\n', size=12)\n",
        "for x,i in enumerate(cat_cols[1:]):\n",
        "    sns.countplot(x=df[i], ax=ax[x])"
      ],
      "execution_count": 12,
      "outputs": [
        {
          "output_type": "display_data",
          "data": {
            "image/png": "[encoded data removed]",
            "text/plain": [
              "<Figure size 504x288 with 2 Axes>"
            ]
          },
          "metadata": {
            "tags": [],
            "needs_background": "light"
          }
        }
      ]
    },
    {
      "cell_type": "code",
      "metadata": {
        "id": "98chejkOE7ri",
        "colab": {
          "base_uri": "https://localhost:8080/"
        },
        "outputId": "427a7156-d59a-4711-d2b5-8b88cf14cc7a"
      },
      "source": [
        "print ( 'The column \"Net income flag\" have just value:', df._Net_Income_Flag.unique() )\n",
        "df.drop ('_Net_Income_Flag', axis=1, inplace=True )"
      ],
      "execution_count": 13,
      "outputs": [
        {
          "output_type": "stream",
          "text": [
            "The column \"Net income flag\" have just value: [1]\n"
          ],
          "name": "stdout"
        }
      ]
    },
    {
      "cell_type": "markdown",
      "metadata": {
        "id": "Wp8mV7klFEV3"
      },
      "source": [
        "The feature 'Net income flag' always takes the value 1 for all observations, so it can be removed from the model."
      ]
    },
    {
      "cell_type": "code",
      "metadata": {
        "id": "judAiWbCcW7X"
      },
      "source": [
        "# Looking at the histograms of numerical data\n",
        "df.hist(figsize = (35,30), bins = 50 )\n",
        "plt.show()"
      ],
      "execution_count": null,
      "outputs": []
    },
    {
      "cell_type": "markdown",
      "metadata": {
        "id": "XQ0r23Oyj9V4"
      },
      "source": [
        "# Re-sampling train_set (SMOTE algorithm)"
      ]
    },
    {
      "cell_type": "code",
      "metadata": {
        "id": "r_8WDbamkAIq",
        "colab": {
          "base_uri": "https://localhost:8080/"
        },
        "outputId": "dcb0d5ff-53db-4343-fe06-6d3a8c154c9f"
      },
      "source": [
        "# SMOTE\n",
        "X, y = df.iloc [ :, 1: ].values , df.iloc [:, 0].values\n",
        "X_train, X_test, y_train, y_test = train_test_split ( X, y,\n",
        "                                                     test_size = 0.3,\n",
        "                                                     random_state = 1,\n",
        "                                                     stratify = y)\n",
        "smt = SMOTE ()\n",
        "X_train_sm, y_train_sm = smt.fit_resample (X_train, y_train)\n",
        "\n",
        "print ('# class in y_train:', np.bincount (y_train_sm) )"
      ],
      "execution_count": 15,
      "outputs": [
        {
          "output_type": "stream",
          "text": [
            "# class in y_train: [4619 4619]\n"
          ],
          "name": "stdout"
        }
      ]
    },
    {
      "cell_type": "markdown",
      "metadata": {
        "id": "gF6BJfQ0mKX3"
      },
      "source": [
        "After the application of SMOTE the classes are rebalanced and both classes of target variable have the same number of 4619 observations."
      ]
    },
    {
      "cell_type": "markdown",
      "metadata": {
        "id": "1vFOSnr4nBxG"
      },
      "source": [
        "Let's now apply the machine learning models with the training dataset resampled and balanced according to the target variable: therefore each class will have the same weight and will not be treated differently than the others.\n",
        "\n",
        "NB: I would like to clarify that the balancing of the classes is done in the training set, therefore in the training phase, and that a correct prediction is right to do it on unnoticed data, precisely the test set."
      ]
    },
    {
      "cell_type": "markdown",
      "metadata": {
        "id": "4j_z-J-zjyKH"
      },
      "source": [
        "# Models"
      ]
    },
    {
      "cell_type": "markdown",
      "metadata": {
        "id": "XCc807sTj1Wz"
      },
      "source": [
        "We will see the performances on the SMOTE oversampled data (we call *X_train_sm* and y_train_sm). For this I decided to use a few different models classifier:\n",
        "\n",
        "---\n",
        "\n",
        "\n",
        "- Logistic Regression\n",
        "- Decision Tree Classifier\n",
        "- K-Nearest Neighbors\n",
        "- Support Vector Machine\n",
        "- Random Forest Classifier\n",
        "\n",
        "\n",
        "\n",
        "---\n",
        "\n"
      ]
    },
    {
      "cell_type": "markdown",
      "metadata": {
        "id": "xBGdgV5RZGxo"
      },
      "source": [
        "## Logistic Regression"
      ]
    },
    {
      "cell_type": "code",
      "metadata": {
        "colab": {
          "base_uri": "https://localhost:8080/"
        },
        "id": "lNyRsJeXHAMZ",
        "outputId": "effeb1b3-ce9b-43e0-ea5e-655ca27f7164"
      },
      "source": [
        "pipeline_lr = make_pipeline ( StandardScaler(),\n",
        "                          LogisticRegression ( penalty='none', C=1.0, solver='lbfgs', random_state=24 )\n",
        "                          )\n",
        "pipeline_lr.fit ( X_train_sm, y_train_sm )\n",
        "scores = cross_val_score ( estimator=pipeline_lr,\n",
        "                          X = X_train_sm,\n",
        "                          y = y_train_sm,\n",
        "                          cv=5,\n",
        "                          n_jobs = 2)\n",
        "y_pred_lr = pipeline_lr.predict (X_test)\n",
        "print ( 'Accuracy train: %.3f' %pipeline_lr.score (X_train_sm, y_train_sm) )\n",
        "print ( 'Accuracy cross-validation: %.3f' %scores.mean() )\n",
        "print ( 'Accuracy test: %.3f' %pipeline_lr.score (X_test, y_test) )"
      ],
      "execution_count": 19,
      "outputs": [
        {
          "output_type": "stream",
          "text": [
            "Accuracy train: 0.913\n",
            "Accuracy cross-validation: 0.909\n",
            "Accuracy test: 0.888\n"
          ],
          "name": "stdout"
        }
      ]
    },
    {
      "cell_type": "code",
      "metadata": {
        "id": "l-g85GQ-dXyw"
      },
      "source": [
        "# learning curve\n",
        "train_sizes, train_scores, test_scores =\\\n",
        "                learning_curve(estimator=pipeline_lr,\n",
        "                               X=X_train_sm,\n",
        "                               y=y_train_sm,\n",
        "                               train_sizes=np.linspace(0.1, 1.0, 10),\n",
        "                               cv=10,\n",
        "                               n_jobs=2)\n",
        "\n",
        "train_mean = np.mean(train_scores, axis=1)\n",
        "train_std = np.std(train_scores, axis=1)\n",
        "test_mean = np.mean(test_scores, axis=1)\n",
        "test_std = np.std(test_scores, axis=1)"
      ],
      "execution_count": 20,
      "outputs": []
    },
    {
      "cell_type": "code",
      "metadata": {
        "colab": {
          "base_uri": "https://localhost:8080/",
          "height": 297
        },
        "id": "ci_mrPARSFQd",
        "outputId": "f2024387-47af-4fcd-947f-6fa4d2ad91ea"
      },
      "source": [
        "plt.plot(train_sizes, train_mean,\n",
        "         color='blue', marker='o',\n",
        "         markersize=5, label='Training accuracy')\n",
        "\n",
        "plt.fill_between(train_sizes,\n",
        "                 train_mean + train_std,\n",
        "                 train_mean - train_std,\n",
        "                 alpha=0.15, color='blue')\n",
        "\n",
        "\n",
        "plt.plot(train_sizes, test_mean,\n",
        "         color='green', linestyle='--',\n",
        "         marker='s', markersize=5,\n",
        "         label='Validation accuracy')\n",
        "\n",
        "plt.fill_between(train_sizes,\n",
        "                 test_mean + test_std,\n",
        "                 test_mean - test_std,\n",
        "                 alpha=0.15, color='green')\n",
        "\n",
        "plt.xlabel('Number of training examples', size=12)\n",
        "plt.ylabel('Accuracy', size=12)\n",
        "plt.legend(loc='upper left')\n",
        "plt.ylim([0.8, 1.03])\n",
        "plt.axvline(x=6670, color = 'red', linestyle = '--', alpha = 0.5)\n",
        "plt.axvline(x=7480, color = 'yellow', linestyle = '--', alpha = 0.7)\n",
        "plt.text(5750, 0.825, 'Underfitting', fontsize=12, color='white', bbox ={'facecolor':'grey', 'pad':2} )\n",
        "plt.text(7600, 0.96, 'Overfitting', fontsize=12, color='white',bbox ={'facecolor':'grey', 'pad':2} )\n",
        "plt.title ('Learning curve', size=14)\n",
        "plt.tight_layout()\n",
        "plt.grid(b=False)\n",
        "plt.show()"
      ],
      "execution_count": 23,
      "outputs": [
        {
          "output_type": "display_data",
          "data": {
            "image/png": "[encoded data removed]",
            "text/plain": [
              "<Figure size 432x288 with 1 Axes>"
            ]
          },
          "metadata": {
            "tags": [],
            "needs_background": "light"
          }
        }
      ]
    },
    {
      "cell_type": "markdown",
      "metadata": {
        "id": "Uo0Zw9MCXNmu"
      },
      "source": [
        "As can be seen from the graph, the model performs well on both training and validation data if at least 6670 examples are submitted to it during training (as indicated by the dashed red vertical line).\n",
        "\n",
        "Also note, as indicated by the yellow dashed vertical line, that the distance between accuracy in training and accuracy in validation widens with a dataset of more than 7480 examples: an indicator of an increasing level of overfitting."
      ]
    },
    {
      "cell_type": "markdown",
      "metadata": {
        "id": "CwTrsFufgNN2"
      },
      "source": [
        "## Decision Tree Classifier"
      ]
    },
    {
      "cell_type": "code",
      "metadata": {
        "id": "ggy3zgV8ef_Y",
        "colab": {
          "base_uri": "https://localhost:8080/"
        },
        "outputId": "17535cad-8392-4efa-cde2-a635cdf44f85"
      },
      "source": [
        "pipeline_tree = make_pipeline ( StandardScaler(),\n",
        "                          DecisionTreeClassifier ( min_samples_split=4, random_state=42 )\n",
        "                          )\n",
        "pipeline_tree.fit ( X_train_sm, y_train_sm )\n",
        "scores = cross_val_score ( estimator=pipeline_tree,\n",
        "                          X = X_train_sm,\n",
        "                          y = y_train_sm,\n",
        "                          cv=5,\n",
        "                          n_jobs = 2)\n",
        "y_pred_tree = pipeline_tree.predict (X_test)\n",
        "print ( 'Accuracy train: %.3f' %pipeline_tree.score (X_train_sm, y_train_sm) )\n",
        "print ( 'Accuracy cross-validation: %.3f' %scores.mean() )\n",
        "print ( 'Accuracy test: %.3f' %pipeline_tree.score (X_test, y_test) )"
      ],
      "execution_count": 28,
      "outputs": [
        {
          "output_type": "stream",
          "text": [
            "Accuracy train: 0.999\n",
            "Accuracy cross-validation: 0.953\n",
            "Accuracy test: 0.934\n"
          ],
          "name": "stdout"
        }
      ]
    },
    {
      "cell_type": "code",
      "metadata": {
        "id": "2Sy-FGvC-nNi"
      },
      "source": [
        "# validation curve\n",
        "param_range = [1,2,3,4,5,6,7,8,9,10]\n",
        "\n",
        "train_scores, test_scores = validation_curve(\n",
        "                estimator=pipeline_tree, \n",
        "                X=X_train, \n",
        "                y=y_train, \n",
        "                param_name='decisiontreeclassifier__min_samples_split', \n",
        "                param_range=param_range,\n",
        "                cv=5)\n",
        "\n",
        "train_mean = np.mean(train_scores, axis=1)\n",
        "train_std = np.std(train_scores, axis=1)\n",
        "test_mean = np.mean(test_scores, axis=1)\n",
        "test_std = np.std(test_scores, axis=1)"
      ],
      "execution_count": 29,
      "outputs": []
    },
    {
      "cell_type": "code",
      "metadata": {
        "colab": {
          "base_uri": "https://localhost:8080/",
          "height": 297
        },
        "id": "IQS7fR7b8fC0",
        "outputId": "035209f4-a1b7-4607-e6ff-4ec2aeb2068a"
      },
      "source": [
        "plt.plot(param_range, train_mean, \n",
        "         color='blue', marker='o', \n",
        "         markersize=5, label='Training accuracy')\n",
        "\n",
        "plt.fill_between(param_range, train_mean + train_std,\n",
        "                 train_mean - train_std, alpha=0.15,\n",
        "                 color='blue')\n",
        "\n",
        "plt.plot(param_range, test_mean, \n",
        "         color='green', linestyle='--', \n",
        "         marker='s', markersize=5, \n",
        "         label='Validation accuracy')\n",
        "\n",
        "plt.fill_between(param_range, \n",
        "                 test_mean + test_std,\n",
        "                 test_mean - test_std, \n",
        "                 alpha=0.15, color='green')\n",
        "\n",
        "plt.grid(b=False)\n",
        "plt.legend(loc='lower right')\n",
        "plt.xlabel('Parameter min_samples_split', size=12)\n",
        "plt.ylabel('Accuracy', size=12)\n",
        "plt.title ('Validation curve as a function of the regularization parameter\\n min_samples_split\\n', size=14)\n",
        "plt.ylim([0.8, 1.0])\n",
        "plt.axvline(x=4, color = 'red', linestyle = '--', alpha = 0.5)\n",
        "plt.text(4.5, 0.9, 'Best min_samples_split : 4', fontsize=12, color='white',bbox ={'facecolor':'grey', 'pad':2} )\n",
        "plt.tight_layout()\n",
        "plt.show()"
      ],
      "execution_count": 30,
      "outputs": [
        {
          "output_type": "display_data",
          "data": {
            "image/png": "[encoded data removed]",
            "text/plain": [
              "<Figure size 432x288 with 1 Axes>"
            ]
          },
          "metadata": {
            "tags": [],
            "needs_background": "light"
          }
        }
      ]
    },
    {
      "cell_type": "markdown",
      "metadata": {
        "id": "9ZKsbvFXfJOT"
      },
      "source": [
        "## K-Nearest Neighbors"
      ]
    },
    {
      "cell_type": "code",
      "metadata": {
        "colab": {
          "base_uri": "https://localhost:8080/"
        },
        "id": "_zarzMAdpU_z",
        "outputId": "9133503b-076d-47ca-ac5b-96d8f8307465"
      },
      "source": [
        "pipeline_knn = make_pipeline ( StandardScaler(),\n",
        "                          KNeighborsClassifier (n_neighbors=5, weights='distance', p=2 )\n",
        "                          )\n",
        "pipeline_knn.fit ( X_train_sm, y_train_sm )\n",
        "scores = cross_val_score ( estimator=pipeline_knn,\n",
        "                          X = X_train_sm,\n",
        "                          y = y_train_sm,\n",
        "                          cv=5,\n",
        "                          n_jobs = 2)\n",
        "y_pred_knn = pipeline_knn.predict (X_test)\n",
        "print ( 'Accuracy train: %.3f' %pipeline_knn.score (X_train_sm, y_train_sm) )\n",
        "print ( 'Accuracy cross-validation: %.3f' %scores.mean() )\n",
        "print ( 'Accuracy test: %.3f' %pipeline_knn.score (X_test, y_test) )"
      ],
      "execution_count": 31,
      "outputs": [
        {
          "output_type": "stream",
          "text": [
            "Accuracy train: 1.000\n",
            "Accuracy cross-validation: 0.942\n",
            "Accuracy test: 0.905\n"
          ],
          "name": "stdout"
        }
      ]
    },
    {
      "cell_type": "markdown",
      "metadata": {
        "id": "z2bBg-rf9BWE"
      },
      "source": [
        "## Support vector machine"
      ]
    },
    {
      "cell_type": "code",
      "metadata": {
        "id": "bQ1lBwAUsbQg",
        "colab": {
          "base_uri": "https://localhost:8080/"
        },
        "outputId": "d7054b07-9be1-41af-b3e6-73d8bb883e1e"
      },
      "source": [
        "pipeline_svm = make_pipeline ( StandardScaler(),\n",
        "                          SVC (random_state=1, C=1.0, kernel='rbf', gamma='scale')\n",
        "                          )\n",
        "pipeline_svm.fit ( X_train_sm, y_train_sm )\n",
        "scores = cross_val_score ( estimator=pipeline_svm,\n",
        "                          X = X_train_sm,\n",
        "                          y = y_train_sm,\n",
        "                          cv=5,\n",
        "                          n_jobs = 2)\n",
        "y_pred_svm = pipeline_svm.predict (X_test)\n",
        "print ( 'Accuracy train: %.3f' %pipeline_svm.score (X_train_sm, y_train_sm) )\n",
        "print ( 'Accuracy cross-validation: %.3f' %scores.mean() )\n",
        "print ( 'Accuracy test: %.3f' %pipeline_svm.score (X_test, y_test) )"
      ],
      "execution_count": 32,
      "outputs": [
        {
          "output_type": "stream",
          "text": [
            "Accuracy train: 0.966\n",
            "Accuracy cross-validation: 0.959\n",
            "Accuracy test: 0.926\n"
          ],
          "name": "stdout"
        }
      ]
    },
    {
      "cell_type": "markdown",
      "metadata": {
        "id": "gkflGWWr7zDi"
      },
      "source": [
        "## Ensemble learning - Random Forest"
      ]
    },
    {
      "cell_type": "code",
      "metadata": {
        "id": "qyxaQvBttj5R",
        "colab": {
          "base_uri": "https://localhost:8080/"
        },
        "outputId": "bef2813f-8eec-43e2-a029-2a841fc40643"
      },
      "source": [
        "pipeline_rfc = make_pipeline ( StandardScaler(),\n",
        "                          RandomForestClassifier(criterion='entropy', random_state=1)\n",
        "                          )\n",
        "pipeline_rfc.fit ( X_train_sm, y_train_sm )\n",
        "scores = cross_val_score ( estimator=pipeline_rfc,\n",
        "                          X = X_train_sm,\n",
        "                          y = y_train_sm,\n",
        "                          cv=5,\n",
        "                          n_jobs = 2)\n",
        "y_pred_rfc = pipeline_rfc.predict (X_test)\n",
        "print ( 'Accuracy train: %.3f' %pipeline_rfc.score (X_train_sm, y_train_sm) )\n",
        "print ( 'Accuracy cross-validation: %.3f' %scores.mean() )\n",
        "print ( 'Accuracy test: %.3f' %pipeline_rfc.score (X_test, y_test) )"
      ],
      "execution_count": 33,
      "outputs": [
        {
          "output_type": "stream",
          "text": [
            "Accuracy train: 1.000\n",
            "Accuracy cross-validation: 0.979\n",
            "Accuracy test: 0.956\n"
          ],
          "name": "stdout"
        }
      ]
    },
    {
      "cell_type": "markdown",
      "metadata": {
        "id": "VUBXgzhHP6OV"
      },
      "source": [
        "**RESUME:** Trained Classifiers Performance Report on Test Set:"
      ]
    },
    {
      "cell_type": "code",
      "metadata": {
        "colab": {
          "base_uri": "https://localhost:8080/"
        },
        "id": "Z3pcpFtSqlvq",
        "outputId": "c6f497e0-2389-4e29-bf28-a3a924d73fd6"
      },
      "source": [
        "pred_list = [y_pred_lr, y_pred_tree, y_pred_knn, y_pred_rfc, y_pred_svm ]\n",
        "name_clf = [ 'Logistic Regression', 'Decision Tree', 'K-NN', 'Random Forest', 'Support vector machine' ]\n",
        "for name, y_pred in zip(name_clf, pred_list ):\n",
        "  print (f'---> {name}')\n",
        "  print (f'Accuracy: %0.3f' %accuracy_score (y_test, y_pred))\n",
        "  print (f'Recall: %0.3f' %recall_score (y_test, y_pred))\n",
        "  print (f'F1 score: %0.3f' %f1_score (y_test, y_pred))\n",
        "  print ('')"
      ],
      "execution_count": 34,
      "outputs": [
        {
          "output_type": "stream",
          "text": [
            "---> Logistic Regression\n",
            "Accuracy: 0.888\n",
            "Recall: 0.758\n",
            "F1 score: 0.303\n",
            "\n",
            "---> Decision Tree\n",
            "Accuracy: 0.934\n",
            "Recall: 0.348\n",
            "F1 score: 0.253\n",
            "\n",
            "---> K-NN\n",
            "Accuracy: 0.905\n",
            "Recall: 0.545\n",
            "F1 score: 0.271\n",
            "\n",
            "---> Random Forest\n",
            "Accuracy: 0.956\n",
            "Recall: 0.485\n",
            "F1 score: 0.413\n",
            "\n",
            "---> Support vector machine\n",
            "Accuracy: 0.926\n",
            "Recall: 0.515\n",
            "F1 score: 0.309\n",
            "\n"
          ],
          "name": "stdout"
        }
      ]
    },
    {
      "cell_type": "markdown",
      "metadata": {
        "id": "SDDbSroEQFhR"
      },
      "source": [
        "The results show that the model with the greatest accuracy is the Random Forest. However, in this case we are more concerned with minimizing the likelihood of not detecting banks that really are close to failure. This is why it is best to look at the results of *Recall*, for which it seems that the best decision is Logistic Regression.\n",
        "\n",
        "Now let's optimize its hyperparameters with a grid search."
      ]
    },
    {
      "cell_type": "markdown",
      "metadata": {
        "id": "GxFKzPVpRwmM"
      },
      "source": [
        "# Hyperparameter optimization"
      ]
    },
    {
      "cell_type": "code",
      "metadata": {
        "colab": {
          "base_uri": "https://localhost:8080/"
        },
        "id": "SlPcGqnGRCiQ",
        "outputId": "f83de919-51e1-41d7-abf5-df37fca1c2e1"
      },
      "source": [
        "# classification report before optimizing hyperparameters\n",
        "label = ['Stable', 'Unstable']\n",
        "print(classification_report(y_test, y_pred_lr, target_names=label))"
      ],
      "execution_count": 35,
      "outputs": [
        {
          "output_type": "stream",
          "text": [
            "              precision    recall  f1-score   support\n",
            "\n",
            "      Stable       0.99      0.89      0.94      1980\n",
            "    Unstable       0.19      0.76      0.30        66\n",
            "\n",
            "    accuracy                           0.89      2046\n",
            "   macro avg       0.59      0.82      0.62      2046\n",
            "weighted avg       0.97      0.89      0.92      2046\n",
            "\n"
          ],
          "name": "stdout"
        }
      ]
    },
    {
      "cell_type": "code",
      "metadata": {
        "colab": {
          "base_uri": "https://localhost:8080/"
        },
        "id": "QtRHOsZqWzf4",
        "outputId": "b76682eb-0b70-4d6e-95f4-4520d5c98c41"
      },
      "source": [
        "# pipeline\n",
        "pipeline_lr = make_pipeline ( StandardScaler(),\n",
        "                          LogisticRegression ()\n",
        "                          )\n",
        "\n",
        "# range valori dei oparametri C\n",
        "param_range = [ 0.001, 0.01, 0.1, 1.0 ]\n",
        "# creo griglia parametri\n",
        "grid_param = [ { 'logisticregression__C' : param_range,\n",
        "               'logisticregression__penalty' : ['l2', 'l1', 'none'],\n",
        "               'logisticregression__solver' : ['lbfgs', 'saga'] } ]\n",
        "gs = GridSearchCV ( estimator = pipeline_lr,\n",
        "                   param_grid = grid_param,\n",
        "                   scoring = 'recall',\n",
        "                   cv = 5,\n",
        "                   refit = True,\n",
        "                   n_jobs = 2\n",
        "                   )\n",
        "\n",
        "gs = gs.fit ( X_train_sm, y_train_sm )\n",
        "\n",
        "print ( 'Best score: %.3f' %gs.best_score_ )\n",
        "\n",
        "print ( 'Best hyperparameter:', gs.best_params_ )\n",
        "\n",
        "y_pred_gs = gs.predict (X_test)"
      ],
      "execution_count": 36,
      "outputs": [
        {
          "output_type": "stream",
          "text": [
            "Best score: 0.922\n",
            "Best hyperparameter: {'logisticregression__C': 1.0, 'logisticregression__penalty': 'l2', 'logisticregression__solver': 'lbfgs'}\n"
          ],
          "name": "stdout"
        }
      ]
    },
    {
      "cell_type": "code",
      "metadata": {
        "colab": {
          "base_uri": "https://localhost:8080/"
        },
        "id": "S0POAF8BZZZn",
        "outputId": "6cc7d558-d3c5-4ec6-9c19-dec6c03abb46"
      },
      "source": [
        "# classification report before optimizing hyperparameters\n",
        "label = ['Bank stable', 'Bank unstable']\n",
        "print(classification_report(y_test, y_pred_gs, target_names=label))"
      ],
      "execution_count": 37,
      "outputs": [
        {
          "output_type": "stream",
          "text": [
            "               precision    recall  f1-score   support\n",
            "\n",
            "  Bank stable       0.99      0.90      0.94      1980\n",
            "Bank unstable       0.20      0.77      0.32        66\n",
            "\n",
            "     accuracy                           0.89      2046\n",
            "    macro avg       0.60      0.83      0.63      2046\n",
            " weighted avg       0.97      0.89      0.92      2046\n",
            "\n"
          ],
          "name": "stdout"
        }
      ]
    },
    {
      "cell_type": "markdown",
      "metadata": {
        "id": "WqJea4aVlqlf"
      },
      "source": [
        "Following the optimization of the hyperparameters, an improvement in the Recall is observed, which passes from 0.76 to 0.77.\n",
        "\n",
        "Now, looking at the confusion matrix:"
      ]
    },
    {
      "cell_type": "code",
      "metadata": {
        "colab": {
          "base_uri": "https://localhost:8080/",
          "height": 369
        },
        "id": "5qrAPWV-aaGp",
        "outputId": "dc3b531d-a501-442d-9c3f-acac55bea4f3"
      },
      "source": [
        "conf_matrix = confusion_matrix (  y_test, y_pred_gs )\n",
        "\n",
        "# plot\n",
        "fig, ax = plt.subplots(figsize=(5, 5))\n",
        "ax.matshow(conf_matrix, cmap='CMRmap', alpha=0.7)\n",
        "for i in range(conf_matrix.shape[0]):\n",
        "    for j in range(conf_matrix.shape[1]):\n",
        "        ax.text(x=j, y=i, s=conf_matrix[i, j], va='center', ha='center')\n",
        "plt.xlabel('Predicted label', size = 20)\n",
        "plt.ylabel('True label', size = 20)\n",
        "plt.tight_layout()\n",
        "plt.show()"
      ],
      "execution_count": 38,
      "outputs": [
        {
          "output_type": "display_data",
          "data": {
            "image/png": "[encoded data removed]",
            "text/plain": [
              "<Figure size 360x360 with 1 Axes>"
            ]
          },
          "metadata": {
            "tags": [],
            "needs_background": "light"
          }
        }
      ]
    },
    {
      "cell_type": "markdown",
      "metadata": {
        "id": "3MxUcCzFmA9W"
      },
      "source": [
        "From the confusion matrix it is concluded that:\n",
        "\n",
        "- the optimized model commits 221 classification errors\n",
        "\n",
        "- deeming it more serious to make the mistake of classifying a company as stable in an unstable reality, our classifier does an excellent job because he makes only 15 mistakes (of 221\n",
        "totals) of this type on the entire test dataset (consisting of 2046 examples)."
      ]
    }
  ]
}